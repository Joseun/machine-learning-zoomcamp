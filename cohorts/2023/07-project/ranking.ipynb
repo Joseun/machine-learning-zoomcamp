{
 "cells": [
  {
   "cell_type": "markdown",
   "metadata": {},
   "source": [
    "# Machine Learning for Recommendation\n",
    "\n",
    "Using XGBoost for Ranking Amazon Products\n",
    "\n",
    "\n",
    "## Recommendation Prediction project\n",
    "\n",
    "* Dataset: https://www.kaggle.com/datasets/arhamrumi/amazon-product-reviews\n"
   ]
  },
  {
   "cell_type": "code",
   "execution_count": 154,
   "metadata": {
    "id": "Ux3hFpqqKLw5"
   },
   "outputs": [],
   "source": [
    "import pandas as pd\n",
    "import numpy as np\n",
    "import matplotlib.pyplot as plt\n",
    "\n",
    "# from lightgbm import LGBMRanker\n",
    "import xgboost as xgb\n",
    "from xgboost import XGBRanker\n",
    "from datetime import datetime\n",
    "from tqdm import tqdm\n",
    "import seaborn as sns"
   ]
  },
  {
   "cell_type": "code",
   "execution_count": 13,
   "metadata": {},
   "outputs": [
    {
     "data": {
      "text/html": [
       "<div>\n",
       "<style scoped>\n",
       "    .dataframe tbody tr th:only-of-type {\n",
       "        vertical-align: middle;\n",
       "    }\n",
       "\n",
       "    .dataframe tbody tr th {\n",
       "        vertical-align: top;\n",
       "    }\n",
       "\n",
       "    .dataframe thead th {\n",
       "        text-align: right;\n",
       "    }\n",
       "</style>\n",
       "<table border=\"1\" class=\"dataframe\">\n",
       "  <thead>\n",
       "    <tr style=\"text-align: right;\">\n",
       "      <th></th>\n",
       "      <th>Id</th>\n",
       "      <th>ProductId</th>\n",
       "      <th>UserId</th>\n",
       "      <th>ProfileName</th>\n",
       "      <th>HelpfulnessNumerator</th>\n",
       "      <th>HelpfulnessDenominator</th>\n",
       "      <th>Score</th>\n",
       "      <th>Time</th>\n",
       "      <th>Summary</th>\n",
       "      <th>Text</th>\n",
       "    </tr>\n",
       "  </thead>\n",
       "  <tbody>\n",
       "    <tr>\n",
       "      <th>0</th>\n",
       "      <td>1</td>\n",
       "      <td>B001E4KFG0</td>\n",
       "      <td>A3SGXH7AUHU8GW</td>\n",
       "      <td>delmartian</td>\n",
       "      <td>1</td>\n",
       "      <td>1</td>\n",
       "      <td>5</td>\n",
       "      <td>1303862400</td>\n",
       "      <td>Good Quality Dog Food</td>\n",
       "      <td>I have bought several of the Vitality canned d...</td>\n",
       "    </tr>\n",
       "    <tr>\n",
       "      <th>1</th>\n",
       "      <td>2</td>\n",
       "      <td>B00813GRG4</td>\n",
       "      <td>A1D87F6ZCVE5NK</td>\n",
       "      <td>dll pa</td>\n",
       "      <td>0</td>\n",
       "      <td>0</td>\n",
       "      <td>1</td>\n",
       "      <td>1346976000</td>\n",
       "      <td>Not as Advertised</td>\n",
       "      <td>Product arrived labeled as Jumbo Salted Peanut...</td>\n",
       "    </tr>\n",
       "    <tr>\n",
       "      <th>2</th>\n",
       "      <td>3</td>\n",
       "      <td>B000LQOCH0</td>\n",
       "      <td>ABXLMWJIXXAIN</td>\n",
       "      <td>Natalia Corres \"Natalia Corres\"</td>\n",
       "      <td>1</td>\n",
       "      <td>1</td>\n",
       "      <td>4</td>\n",
       "      <td>1219017600</td>\n",
       "      <td>\"Delight\" says it all</td>\n",
       "      <td>This is a confection that has been around a fe...</td>\n",
       "    </tr>\n",
       "    <tr>\n",
       "      <th>3</th>\n",
       "      <td>4</td>\n",
       "      <td>B000UA0QIQ</td>\n",
       "      <td>A395BORC6FGVXV</td>\n",
       "      <td>Karl</td>\n",
       "      <td>3</td>\n",
       "      <td>3</td>\n",
       "      <td>2</td>\n",
       "      <td>1307923200</td>\n",
       "      <td>Cough Medicine</td>\n",
       "      <td>If you are looking for the secret ingredient i...</td>\n",
       "    </tr>\n",
       "    <tr>\n",
       "      <th>4</th>\n",
       "      <td>5</td>\n",
       "      <td>B006K2ZZ7K</td>\n",
       "      <td>A1UQRSCLF8GW1T</td>\n",
       "      <td>Michael D. Bigham \"M. Wassir\"</td>\n",
       "      <td>0</td>\n",
       "      <td>0</td>\n",
       "      <td>5</td>\n",
       "      <td>1350777600</td>\n",
       "      <td>Great taffy</td>\n",
       "      <td>Great taffy at a great price.  There was a wid...</td>\n",
       "    </tr>\n",
       "  </tbody>\n",
       "</table>\n",
       "</div>"
      ],
      "text/plain": [
       "   Id   ProductId          UserId                      ProfileName  \\\n",
       "0   1  B001E4KFG0  A3SGXH7AUHU8GW                       delmartian   \n",
       "1   2  B00813GRG4  A1D87F6ZCVE5NK                           dll pa   \n",
       "2   3  B000LQOCH0   ABXLMWJIXXAIN  Natalia Corres \"Natalia Corres\"   \n",
       "3   4  B000UA0QIQ  A395BORC6FGVXV                             Karl   \n",
       "4   5  B006K2ZZ7K  A1UQRSCLF8GW1T    Michael D. Bigham \"M. Wassir\"   \n",
       "\n",
       "   HelpfulnessNumerator  HelpfulnessDenominator  Score        Time  \\\n",
       "0                     1                       1      5  1303862400   \n",
       "1                     0                       0      1  1346976000   \n",
       "2                     1                       1      4  1219017600   \n",
       "3                     3                       3      2  1307923200   \n",
       "4                     0                       0      5  1350777600   \n",
       "\n",
       "                 Summary                                               Text  \n",
       "0  Good Quality Dog Food  I have bought several of the Vitality canned d...  \n",
       "1      Not as Advertised  Product arrived labeled as Jumbo Salted Peanut...  \n",
       "2  \"Delight\" says it all  This is a confection that has been around a fe...  \n",
       "3         Cough Medicine  If you are looking for the secret ingredient i...  \n",
       "4            Great taffy  Great taffy at a great price.  There was a wid...  "
      ]
     },
     "execution_count": 13,
     "metadata": {},
     "output_type": "execute_result"
    }
   ],
   "source": [
    "ratings = pd.read_csv(r\"./reviews.csv\")\n",
    "ratings.head()"
   ]
  },
  {
   "cell_type": "code",
   "execution_count": 15,
   "metadata": {},
   "outputs": [
    {
     "data": {
      "text/plain": [
       "Index(['Id', 'ProductId', 'UserId', 'ProfileName', 'HelpfulnessNumerator',\n",
       "       'HelpfulnessDenominator', 'Score', 'Time', 'Summary', 'Text'],\n",
       "      dtype='object')"
      ]
     },
     "execution_count": 15,
     "metadata": {},
     "output_type": "execute_result"
    }
   ],
   "source": [
    "ratings.columns"
   ]
  },
  {
   "cell_type": "code",
   "execution_count": 16,
   "metadata": {
    "colab": {
     "base_uri": "https://localhost:8080/",
     "height": 35
    },
    "id": "f7yR6sLgYRa6",
    "outputId": "5cc5f911-c4ad-4733-e1a3-8a70d402efc4"
   },
   "outputs": [
    {
     "data": {
      "text/plain": [
       "'There are 568,454 ratings of 74,258 products and 256,059 users'"
      ]
     },
     "execution_count": 16,
     "metadata": {},
     "output_type": "execute_result"
    }
   ],
   "source": [
    "f\"\"\"There are {ratings.shape[0]:,} ratings of {ratings['ProductId'].nunique():,} products and {ratings['UserId'].nunique():,} users\"\"\""
   ]
  },
  {
   "cell_type": "code",
   "execution_count": 193,
   "metadata": {},
   "outputs": [],
   "source": [
    "ratings.to_parquet(\"./amazonproducts.parquet\", index=True)"
   ]
  },
  {
   "cell_type": "code",
   "execution_count": 21,
   "metadata": {
    "colab": {
     "base_uri": "https://localhost:8080/",
     "height": 404
    },
    "id": "5BVR1VnfYu6u",
    "outputId": "93037b8c-2ea5-489b-d939-a85ed5735794"
   },
   "outputs": [
    {
     "data": {
      "image/png": "[encoded data removed]",
      "text/plain": [
       "<Figure size 1000x600 with 1 Axes>"
      ]
     },
     "metadata": {},
     "output_type": "display_data"
    }
   ],
   "source": [
    "ratings.Score.apply(lambda x: int(np.ceil(x))).value_counts().plot.bar(\n",
    "    figsize=(10, 6), color=\"#FF6631\"\n",
    ")\n",
    "plt.title(\"Review counts\", fontweight=\"bold\", fontsize=17)\n",
    "plt.xlabel(\"Review\")\n",
    "plt.ylabel(\"User count\")\n",
    "plt.show()"
   ]
  },
  {
   "cell_type": "code",
   "execution_count": 23,
   "metadata": {
    "id": "gb8sGjPnZhPa"
   },
   "outputs": [],
   "source": [
    "ratings[\"Time\"] = ratings[\"Time\"].map(lambda x: datetime.fromtimestamp(x))"
   ]
  },
  {
   "cell_type": "code",
   "execution_count": 24,
   "metadata": {
    "colab": {
     "base_uri": "https://localhost:8080/",
     "height": 206
    },
    "id": "lLdjQu2Ybd5g",
    "outputId": "3f80447d-7943-46bf-a78b-03a43dd90ce2"
   },
   "outputs": [
    {
     "data": {
      "text/html": [
       "<div>\n",
       "<style scoped>\n",
       "    .dataframe tbody tr th:only-of-type {\n",
       "        vertical-align: middle;\n",
       "    }\n",
       "\n",
       "    .dataframe tbody tr th {\n",
       "        vertical-align: top;\n",
       "    }\n",
       "\n",
       "    .dataframe thead th {\n",
       "        text-align: right;\n",
       "    }\n",
       "</style>\n",
       "<table border=\"1\" class=\"dataframe\">\n",
       "  <thead>\n",
       "    <tr style=\"text-align: right;\">\n",
       "      <th></th>\n",
       "      <th>Id</th>\n",
       "      <th>ProductId</th>\n",
       "      <th>UserId</th>\n",
       "      <th>ProfileName</th>\n",
       "      <th>HelpfulnessNumerator</th>\n",
       "      <th>HelpfulnessDenominator</th>\n",
       "      <th>Score</th>\n",
       "      <th>Time</th>\n",
       "      <th>Summary</th>\n",
       "      <th>Text</th>\n",
       "    </tr>\n",
       "  </thead>\n",
       "  <tbody>\n",
       "    <tr>\n",
       "      <th>0</th>\n",
       "      <td>1</td>\n",
       "      <td>B001E4KFG0</td>\n",
       "      <td>A3SGXH7AUHU8GW</td>\n",
       "      <td>delmartian</td>\n",
       "      <td>1</td>\n",
       "      <td>1</td>\n",
       "      <td>5</td>\n",
       "      <td>2011-04-27 01:00:00</td>\n",
       "      <td>Good Quality Dog Food</td>\n",
       "      <td>I have bought several of the Vitality canned d...</td>\n",
       "    </tr>\n",
       "    <tr>\n",
       "      <th>1</th>\n",
       "      <td>2</td>\n",
       "      <td>B00813GRG4</td>\n",
       "      <td>A1D87F6ZCVE5NK</td>\n",
       "      <td>dll pa</td>\n",
       "      <td>0</td>\n",
       "      <td>0</td>\n",
       "      <td>1</td>\n",
       "      <td>2012-09-07 01:00:00</td>\n",
       "      <td>Not as Advertised</td>\n",
       "      <td>Product arrived labeled as Jumbo Salted Peanut...</td>\n",
       "    </tr>\n",
       "    <tr>\n",
       "      <th>2</th>\n",
       "      <td>3</td>\n",
       "      <td>B000LQOCH0</td>\n",
       "      <td>ABXLMWJIXXAIN</td>\n",
       "      <td>Natalia Corres \"Natalia Corres\"</td>\n",
       "      <td>1</td>\n",
       "      <td>1</td>\n",
       "      <td>4</td>\n",
       "      <td>2008-08-18 01:00:00</td>\n",
       "      <td>\"Delight\" says it all</td>\n",
       "      <td>This is a confection that has been around a fe...</td>\n",
       "    </tr>\n",
       "    <tr>\n",
       "      <th>3</th>\n",
       "      <td>4</td>\n",
       "      <td>B000UA0QIQ</td>\n",
       "      <td>A395BORC6FGVXV</td>\n",
       "      <td>Karl</td>\n",
       "      <td>3</td>\n",
       "      <td>3</td>\n",
       "      <td>2</td>\n",
       "      <td>2011-06-13 01:00:00</td>\n",
       "      <td>Cough Medicine</td>\n",
       "      <td>If you are looking for the secret ingredient i...</td>\n",
       "    </tr>\n",
       "    <tr>\n",
       "      <th>4</th>\n",
       "      <td>5</td>\n",
       "      <td>B006K2ZZ7K</td>\n",
       "      <td>A1UQRSCLF8GW1T</td>\n",
       "      <td>Michael D. Bigham \"M. Wassir\"</td>\n",
       "      <td>0</td>\n",
       "      <td>0</td>\n",
       "      <td>5</td>\n",
       "      <td>2012-10-21 01:00:00</td>\n",
       "      <td>Great taffy</td>\n",
       "      <td>Great taffy at a great price.  There was a wid...</td>\n",
       "    </tr>\n",
       "  </tbody>\n",
       "</table>\n",
       "</div>"
      ],
      "text/plain": [
       "   Id   ProductId          UserId                      ProfileName  \\\n",
       "0   1  B001E4KFG0  A3SGXH7AUHU8GW                       delmartian   \n",
       "1   2  B00813GRG4  A1D87F6ZCVE5NK                           dll pa   \n",
       "2   3  B000LQOCH0   ABXLMWJIXXAIN  Natalia Corres \"Natalia Corres\"   \n",
       "3   4  B000UA0QIQ  A395BORC6FGVXV                             Karl   \n",
       "4   5  B006K2ZZ7K  A1UQRSCLF8GW1T    Michael D. Bigham \"M. Wassir\"   \n",
       "\n",
       "   HelpfulnessNumerator  HelpfulnessDenominator  Score                Time  \\\n",
       "0                     1                       1      5 2011-04-27 01:00:00   \n",
       "1                     0                       0      1 2012-09-07 01:00:00   \n",
       "2                     1                       1      4 2008-08-18 01:00:00   \n",
       "3                     3                       3      2 2011-06-13 01:00:00   \n",
       "4                     0                       0      5 2012-10-21 01:00:00   \n",
       "\n",
       "                 Summary                                               Text  \n",
       "0  Good Quality Dog Food  I have bought several of the Vitality canned d...  \n",
       "1      Not as Advertised  Product arrived labeled as Jumbo Salted Peanut...  \n",
       "2  \"Delight\" says it all  This is a confection that has been around a fe...  \n",
       "3         Cough Medicine  If you are looking for the secret ingredient i...  \n",
       "4            Great taffy  Great taffy at a great price.  There was a wid...  "
      ]
     },
     "execution_count": 24,
     "metadata": {},
     "output_type": "execute_result"
    }
   ],
   "source": [
    "ratings.head()"
   ]
  },
  {
   "cell_type": "code",
   "execution_count": 30,
   "metadata": {
    "colab": {
     "base_uri": "https://localhost:8080/"
    },
    "id": "l6h5No5ubnPo",
    "outputId": "84520b2a-3115-4a5e-be67-ab36f71c2654"
   },
   "outputs": [
    {
     "data": {
      "text/plain": [
       "count                           568454\n",
       "mean     2011-01-29 00:16:44.902420224\n",
       "min                1999-10-08 01:00:00\n",
       "25%                2010-04-15 01:00:00\n",
       "50%                2011-07-20 01:00:00\n",
       "75%                2012-03-26 01:00:00\n",
       "max                2012-10-26 01:00:00\n",
       "Name: Time, dtype: object"
      ]
     },
     "execution_count": 30,
     "metadata": {},
     "output_type": "execute_result"
    }
   ],
   "source": [
    "ratings[\"Time\"].describe()"
   ]
  },
  {
   "cell_type": "code",
   "execution_count": 31,
   "metadata": {
    "colab": {
     "base_uri": "https://localhost:8080/",
     "height": 456
    },
    "id": "700fS67RvtUH",
    "outputId": "9d4f2174-c83d-47a4-c798-52e9fc2aaf80"
   },
   "outputs": [
    {
     "data": {
      "image/png": "[encoded data removed]",
      "text/plain": [
       "<Figure size 1000x600 with 1 Axes>"
      ]
     },
     "metadata": {},
     "output_type": "display_data"
    }
   ],
   "source": [
    "ratings[\"Time\"].dt.day_name().value_counts().plot.bar(color=\"#FF6631\", figsize=(10, 6))\n",
    "plt.title(\"Review counts (By day name)\", fontweight=\"bold\", fontsize=17)\n",
    "plt.xlabel(\"Day\")\n",
    "plt.ylabel(\"User count\")\n",
    "plt.show()"
   ]
  },
  {
   "cell_type": "code",
   "execution_count": 33,
   "metadata": {
    "colab": {
     "base_uri": "https://localhost:8080/",
     "height": 407
    },
    "id": "KnmYrlJuM1yg",
    "outputId": "20e576b2-f7de-4d8d-eabb-a92b7a438dab"
   },
   "outputs": [
    {
     "data": {
      "image/png": "[encoded data removed]",
      "text/plain": [
       "<Figure size 1000x600 with 1 Axes>"
      ]
     },
     "metadata": {},
     "output_type": "display_data"
    }
   ],
   "source": [
    "ratings.Time.dt.hour.value_counts().plot.bar(figsize=(10, 6), color=\"#FF6631\")\n",
    "plt.xlabel(\"Hour (24)\")\n",
    "plt.ylabel(\"Review count\")\n",
    "plt.title(\"Reviews by hour\", fontweight=\"bold\")\n",
    "plt.show()"
   ]
  },
  {
   "cell_type": "code",
   "execution_count": 151,
   "metadata": {},
   "outputs": [],
   "source": [
    "prod_rating = ratings.groupby(\"ProductId\").filter(lambda x: x[\"Score\"].count() >= 50)"
   ]
  },
  {
   "cell_type": "code",
   "execution_count": 152,
   "metadata": {},
   "outputs": [
    {
     "data": {
      "image/png": "[encoded data removed]",
      "text/plain": [
       "<Figure size 960x480 with 1 Axes>"
      ]
     },
     "metadata": {},
     "output_type": "display_data"
    }
   ],
   "source": [
    "no_of_ratings_per_product = (\n",
    "    prod_rating.groupby(by=\"ProductId\")[\"Score\"].count().sort_values(ascending=False)\n",
    ")\n",
    "\n",
    "fig = plt.figure(figsize=plt.figaspect(0.5))\n",
    "ax = plt.gca()\n",
    "plt.plot(no_of_ratings_per_product.values)\n",
    "plt.title(\"# RATINGS per Product\")\n",
    "plt.xlabel(\"Product\")\n",
    "plt.ylabel(\"No of ratings per product\")\n",
    "ax.set_xticklabels([])\n",
    "\n",
    "plt.show()"
   ]
  },
  {
   "cell_type": "code",
   "execution_count": 200,
   "metadata": {},
   "outputs": [
    {
     "data": {
      "text/plain": [
       "['B000ED9L9E', 'B000O5DI1E', 'B001E6GFKI', 'B000NMJWZO', 'B0044MTGHI']"
      ]
     },
     "execution_count": 200,
     "metadata": {},
     "output_type": "execute_result"
    }
   ],
   "source": [
    "list(\n",
    "    prod_rating.groupby(\"ProductId\")[\"Score\"]\n",
    "    .mean()\n",
    "    .sort_values(ascending=False)\n",
    "    .head()\n",
    "    .to_dict()\n",
    "    .keys()\n",
    ")"
   ]
  },
  {
   "cell_type": "code",
   "execution_count": 34,
   "metadata": {
    "id": "jYW8_nS5cq-e"
   },
   "outputs": [],
   "source": [
    "def get_feature_by_user(df):\n",
    "    res = list()\n",
    "    for i, v in tqdm(df.groupby(\"UserId\")):\n",
    "        res.append(\n",
    "            (\n",
    "                i,\n",
    "                len(v[\"ProductId\"]),\n",
    "                (v[\"Score\"] == 5).sum(),\n",
    "                (v[\"Score\"] == 4).sum(),\n",
    "                (v[\"Score\"] == 3).sum(),\n",
    "                (v[\"Score\"] == 2).sum(),\n",
    "                (v[\"Score\"] == 1).sum(),\n",
    "                (v[\"Time\"].dt.dayofweek == 0).sum(),\n",
    "                (v[\"Time\"].dt.dayofweek == 1).sum(),\n",
    "                (v[\"Time\"].dt.dayofweek == 2).sum(),\n",
    "                (v[\"Time\"].dt.dayofweek == 3).sum(),\n",
    "                (v[\"Time\"].dt.dayofweek == 4).sum(),\n",
    "                (v[\"Time\"].dt.dayofweek == 5).sum(),\n",
    "                (v[\"Time\"].dt.dayofweek == 6).sum(),\n",
    "                (v[\"Time\"].dt.hour > 17).sum(),\n",
    "            )\n",
    "        )\n",
    "\n",
    "    res = pd.DataFrame(\n",
    "        res,\n",
    "        columns=[\n",
    "            \"UserId\",\n",
    "            \"revised_products\",\n",
    "            \"5_star_ratings_gave\",\n",
    "            \"4_star_ratings_gave\",\n",
    "            \"3_star_ratings_gave\",\n",
    "            \"2_star_ratings_gave\",\n",
    "            \"1_star_ratings_gave\",\n",
    "            \"monday_review_count_user\",\n",
    "            \"tuesday_review_count_user\",\n",
    "            \"wednesday_review_count_user\",\n",
    "            \"thursday_review_count_user\",\n",
    "            \"friday_review_count_user\",\n",
    "            \"saturday_review_count_user\",\n",
    "            \"sunday_review_count_user\",\n",
    "            \"evening_reviews_by_user\",\n",
    "        ],\n",
    "    )\n",
    "    return res"
   ]
  },
  {
   "cell_type": "code",
   "execution_count": 35,
   "metadata": {
    "id": "XL3EjOXyc00l"
   },
   "outputs": [],
   "source": [
    "def get_feature_by_product(df):\n",
    "    res = list()\n",
    "    for i, v in tqdm(df.groupby(\"ProductId\")):\n",
    "        res.append(\n",
    "            (\n",
    "                i,\n",
    "                len(v[\"UserId\"]),\n",
    "                (v[\"Score\"] == 5).sum(),\n",
    "                (v[\"Score\"] == 4).sum(),\n",
    "                (v[\"Score\"] == 3).sum(),\n",
    "                (v[\"Score\"] == 2).sum(),\n",
    "                (v[\"Score\"] == 1).sum(),\n",
    "                (v[\"Time\"].dt.dayofweek == 0).sum(),\n",
    "                (v[\"Time\"].dt.dayofweek == 1).sum(),\n",
    "                (v[\"Time\"].dt.dayofweek == 2).sum(),\n",
    "                (v[\"Time\"].dt.dayofweek == 3).sum(),\n",
    "                (v[\"Time\"].dt.dayofweek == 4).sum(),\n",
    "                (v[\"Time\"].dt.dayofweek == 5).sum(),\n",
    "                (v[\"Time\"].dt.dayofweek == 6).sum(),\n",
    "                (v[\"Time\"].dt.hour > 17).sum(),\n",
    "            )\n",
    "        )\n",
    "\n",
    "    res = pd.DataFrame(\n",
    "        res,\n",
    "        columns=[\n",
    "            \"ProductId\",\n",
    "            \"user_count\",\n",
    "            \"1_star_ratings_recieved\",\n",
    "            \"2_star_ratings_recieved\",\n",
    "            \"3_star_ratings_recieved\",\n",
    "            \"4_star_ratings_recieved\",\n",
    "            \"5_star_ratings_recieved\",\n",
    "            \"monday_review_count_item\",\n",
    "            \"tuesday_review_count_item\",\n",
    "            \"wednesday_review_count_item\",\n",
    "            \"thursday_review_count_item\",\n",
    "            \"friday_review_count_item\",\n",
    "            \"saturday_review_count_item\",\n",
    "            \"sunday_review_count_item\",\n",
    "            \"evening_reviews_by_movie\",\n",
    "        ],\n",
    "    )\n",
    "    return res"
   ]
  },
  {
   "cell_type": "code",
   "execution_count": 36,
   "metadata": {
    "colab": {
     "base_uri": "https://localhost:8080/",
     "height": 35
    },
    "id": "2URjV2jUOb82",
    "outputId": "695ccec5-29bf-477d-fbb2-89f7813e0f33"
   },
   "outputs": [
    {
     "data": {
      "text/plain": [
       "'train_X.shape: (311, 10) test_X.shape: (45529, 10)'"
      ]
     },
     "execution_count": 36,
     "metadata": {},
     "output_type": "execute_result"
    }
   ],
   "source": [
    "start = min(ratings[\"Time\"])\n",
    "end = max(ratings[\"Time\"])\n",
    "interval = end - start\n",
    "\n",
    "ratings[\"Score\"] = ratings[\"Score\"].apply(lambda x: int(np.ceil(x)))\n",
    "\n",
    "train = ratings[ratings[\"Time\"] <= (end - interval / 3)]\n",
    "test = ratings[ratings[\"Time\"] >= (start + interval / 3)]\n",
    "\n",
    "train_y = train[train[\"Time\"] >= (start + interval / 3)]\n",
    "train_X = train[train[\"Time\"] < (start + interval / 3)]\n",
    "test_y = test[test[\"Time\"] >= (end - interval / 3)]\n",
    "test_X = test[test[\"Time\"] < (end - interval / 3)]\n",
    "\n",
    "train_tgt_user = set(train_X[\"UserId\"]) & set(train_y[\"UserId\"])\n",
    "test_tgt_user = set(test_X[\"UserId\"]) & set(test_y[\"UserId\"])\n",
    "\n",
    "f\"\"\"train_X.shape: {train_X.shape} test_X.shape: {test_X.shape}\"\"\""
   ]
  },
  {
   "cell_type": "code",
   "execution_count": 38,
   "metadata": {
    "colab": {
     "base_uri": "https://localhost:8080/"
    },
    "id": "tg8iZ2iMfRJW",
    "outputId": "0e054bde-95a5-48a4-d302-8eb0bbec2fc3"
   },
   "outputs": [
    {
     "data": {
      "text/plain": [
       "(Timestamp('2004-02-15 01:00:00'), Timestamp('2012-10-26 01:00:00'))"
      ]
     },
     "execution_count": 38,
     "metadata": {},
     "output_type": "execute_result"
    }
   ],
   "source": [
    "test.Time.min(), test.Time.max()"
   ]
  },
  {
   "cell_type": "code",
   "execution_count": 39,
   "metadata": {
    "colab": {
     "base_uri": "https://localhost:8080/"
    },
    "id": "AwatT6nVfW73",
    "outputId": "45152a44-0056-4a40-acce-3b3b5192cc96"
   },
   "outputs": [
    {
     "data": {
      "text/plain": [
       "(Timestamp('1999-10-08 01:00:00'), Timestamp('2008-06-20 01:00:00'))"
      ]
     },
     "execution_count": 39,
     "metadata": {},
     "output_type": "execute_result"
    }
   ],
   "source": [
    "train.Time.min(), train.Time.max()"
   ]
  },
  {
   "cell_type": "code",
   "execution_count": 40,
   "metadata": {
    "colab": {
     "base_uri": "https://localhost:8080/"
    },
    "id": "3IalQ7qEffWO",
    "outputId": "650e4709-8d07-4a7d-e23d-c68098bf55e6"
   },
   "outputs": [
    {
     "name": "stderr",
     "output_type": "stream",
     "text": [
      "  0%|          | 0/176 [00:00<?, ?it/s]"
     ]
    },
    {
     "name": "stderr",
     "output_type": "stream",
     "text": [
      "100%|██████████| 176/176 [00:00<00:00, 239.51it/s]\n",
      "100%|██████████| 24854/24854 [01:51<00:00, 222.26it/s]\n",
      "100%|██████████| 145/145 [00:00<00:00, 212.39it/s]\n",
      "100%|██████████| 12404/12404 [00:56<00:00, 220.00it/s]\n"
     ]
    }
   ],
   "source": [
    "train_X_u = get_feature_by_user(train_X)\n",
    "test_X_u = get_feature_by_user(test_X)\n",
    "\n",
    "train_X_p = get_feature_by_product(train_X)\n",
    "test_X_p = get_feature_by_product(test_X)"
   ]
  },
  {
   "cell_type": "code",
   "execution_count": 206,
   "metadata": {
    "colab": {
     "base_uri": "https://localhost:8080/"
    },
    "id": "z0LZesi0hRKL",
    "outputId": "14143820-5db5-464a-ef8a-217a3d0e70f2"
   },
   "outputs": [
    {
     "name": "stderr",
     "output_type": "stream",
     "text": [
      "C:\\Users\\ologa\\AppData\\Local\\Temp\\ipykernel_33740\\2586503965.py:8: SettingWithCopyWarning: \n",
      "A value is trying to be set on a copy of a slice from a DataFrame\n",
      "\n",
      "See the caveats in the documentation: https://pandas.pydata.org/pandas-docs/stable/user_guide/indexing.html#returning-a-view-versus-a-copy\n",
      "  merged.fillna(0, inplace=True)\n"
     ]
    },
    {
     "name": "stdout",
     "output_type": "stream",
     "text": [
      "['user_count', '1_star_ratings_recieved', '2_star_ratings_recieved', '3_star_ratings_recieved', '4_star_ratings_recieved', '5_star_ratings_recieved', 'monday_review_count_item', 'tuesday_review_count_item', 'wednesday_review_count_item', 'thursday_review_count_item', 'friday_review_count_item', 'saturday_review_count_item', 'sunday_review_count_item', 'evening_reviews_by_movie', 'revised_products', '5_star_ratings_gave', '4_star_ratings_gave', '3_star_ratings_gave', '2_star_ratings_gave', '1_star_ratings_gave', 'monday_review_count_user', 'tuesday_review_count_user', 'wednesday_review_count_user', 'thursday_review_count_user', 'friday_review_count_user', 'saturday_review_count_user', 'sunday_review_count_user', 'evening_reviews_by_user', 'Id', 'ProfileName', 'HelpfulnessNumerator', 'HelpfulnessDenominator', 'Summary', 'Text']\n",
      "['user_count', '1_star_ratings_recieved', '2_star_ratings_recieved', '3_star_ratings_recieved', '4_star_ratings_recieved', '5_star_ratings_recieved', 'monday_review_count_item', 'tuesday_review_count_item', 'wednesday_review_count_item', 'thursday_review_count_item', 'friday_review_count_item', 'saturday_review_count_item', 'sunday_review_count_item', 'evening_reviews_by_movie', 'revised_products', '5_star_ratings_gave', '4_star_ratings_gave', '3_star_ratings_gave', '2_star_ratings_gave', '1_star_ratings_gave', 'monday_review_count_user', 'tuesday_review_count_user', 'wednesday_review_count_user', 'thursday_review_count_user', 'friday_review_count_user', 'saturday_review_count_user', 'sunday_review_count_user', 'evening_reviews_by_user', 'Id', 'ProfileName', 'HelpfulnessNumerator', 'HelpfulnessDenominator', 'Summary', 'Text']\n"
     ]
    },
    {
     "name": "stderr",
     "output_type": "stream",
     "text": [
      "C:\\Users\\ologa\\AppData\\Local\\Temp\\ipykernel_33740\\2586503965.py:8: SettingWithCopyWarning: \n",
      "A value is trying to be set on a copy of a slice from a DataFrame\n",
      "\n",
      "See the caveats in the documentation: https://pandas.pydata.org/pandas-docs/stable/user_guide/indexing.html#returning-a-view-versus-a-copy\n",
      "  merged.fillna(0, inplace=True)\n"
     ]
    }
   ],
   "source": [
    "def get_model_input(X_u, X_m, y, tgt_users):\n",
    "\n",
    "    merged = pd.merge(X_u, y, on=[\"UserId\"], how=\"inner\")\n",
    "    merged = pd.merge(X_m, merged, on=[\"ProductId\"], how=\"outer\")\n",
    "    merged = merged.query(\"UserId in @tgt_users\")\n",
    "    # print(merged.columns)\n",
    "\n",
    "    merged.fillna(0, inplace=True)\n",
    "    features_cols = list(\n",
    "        merged.drop(columns=[\"UserId\", \"ProductId\", \"Score\", \"Time\"]).columns\n",
    "    )\n",
    "    print(features_cols)\n",
    "    query_list = merged[\"UserId\"].value_counts()\n",
    "\n",
    "    merged = merged.set_index([\"UserId\", \"ProductId\"])\n",
    "\n",
    "    query_list = query_list.sort_index()\n",
    "\n",
    "    merged.sort_index(inplace=True)\n",
    "\n",
    "    df_x = merged[features_cols]\n",
    "\n",
    "    df_y = merged[\"Score\"]\n",
    "\n",
    "    return df_x, df_y, query_list\n",
    "\n",
    "\n",
    "X_train, y_train, query_list_train = get_model_input(\n",
    "    train_X_u, train_X_p, train_y, train_tgt_user\n",
    ")\n",
    "X_test, y_test, query_list_test = get_model_input(\n",
    "    test_X_u, test_X_p, test_y, test_tgt_user\n",
    ")"
   ]
  },
  {
   "cell_type": "code",
   "execution_count": 202,
   "metadata": {},
   "outputs": [
    {
     "data": {
      "text/plain": [
       "user_count\n",
       "0.0     237\n",
       "1.0      10\n",
       "34.0      2\n",
       "36.0      1\n",
       "Name: count, dtype: int64"
      ]
     },
     "execution_count": 202,
     "metadata": {},
     "output_type": "execute_result"
    }
   ],
   "source": [
    "X_train.user_count.value_counts()"
   ]
  },
  {
   "cell_type": "code",
   "execution_count": 91,
   "metadata": {},
   "outputs": [],
   "source": [
    "num_cols = [\n",
    "    \"user_count\",\n",
    "    \"1_star_ratings_recieved\",\n",
    "    \"2_star_ratings_recieved\",\n",
    "    \"3_star_ratings_recieved\",\n",
    "    \"4_star_ratings_recieved\",\n",
    "    \"5_star_ratings_recieved\",\n",
    "    \"monday_review_count_item\",\n",
    "    \"tuesday_review_count_item\",\n",
    "    \"wednesday_review_count_item\",\n",
    "    \"thursday_review_count_item\",\n",
    "    \"friday_review_count_item\",\n",
    "    \"saturday_review_count_item\",\n",
    "    \"sunday_review_count_item\",\n",
    "    \"evening_reviews_by_movie\",\n",
    "    \"revised_products\",\n",
    "    \"5_star_ratings_gave\",\n",
    "    \"4_star_ratings_gave\",\n",
    "    \"3_star_ratings_gave\",\n",
    "    \"2_star_ratings_gave\",\n",
    "    \"1_star_ratings_gave\",\n",
    "    \"monday_review_count_user\",\n",
    "    \"tuesday_review_count_user\",\n",
    "    \"wednesday_review_count_user\",\n",
    "    \"thursday_review_count_user\",\n",
    "    \"friday_review_count_user\",\n",
    "    \"saturday_review_count_user\",\n",
    "    \"sunday_review_count_user\",\n",
    "    \"evening_reviews_by_user\",\n",
    "]  # 'HelpfulnessNumerator',\n",
    "#'HelpfulnessDenominator',]\n",
    "\n",
    "cat_cols = [\"Id\", \"ProfileName\", \"Summary\", \"Text\"]"
   ]
  },
  {
   "cell_type": "code",
   "execution_count": 92,
   "metadata": {},
   "outputs": [],
   "source": [
    "dtrain = xgb.DMatrix(X_train[num_cols], label=y_train)\n",
    "dval = xgb.DMatrix(X_test[num_cols], label=y_test)"
   ]
  },
  {
   "cell_type": "code",
   "execution_count": 93,
   "metadata": {},
   "outputs": [],
   "source": [
    "watchlist = [(dtrain, \"train\"), (dval, \"val\")]"
   ]
  },
  {
   "cell_type": "code",
   "execution_count": 94,
   "metadata": {},
   "outputs": [],
   "source": [
    "xgb_params = {\n",
    "    \"eta\": 0.1,\n",
    "    # 'max_depth': 6,\n",
    "    # 'min_child_weight': 1,\n",
    "    \"objective\": \"rank:ndcg\",\n",
    "    \"eval_metric\": \"ndcg\",\n",
    "    \"n_estimators\": 100,\n",
    "    # 'nthread': 8,\n",
    "    # 'seed': 1,\n",
    "    \"verbosity\": 1,\n",
    "}"
   ]
  },
  {
   "cell_type": "code",
   "execution_count": 108,
   "metadata": {},
   "outputs": [
    {
     "name": "stdout",
     "output_type": "stream",
     "text": [
      "[10:27:57] WARNING: C:/buildkite-agent/builds/buildkite-windows-cpu-autoscaling-group-i-0fc7796c793e6356f-1/xgboost/xgboost-ci-windows/src/learner.cc:767: \n",
      "Parameters: { \"n_estimators\" } are not used.\n",
      "\n",
      "[0]\ttrain-ndcg:0.99204\tval-ndcg:0.96000\n",
      "[5]\ttrain-ndcg:0.99204\tval-ndcg:0.96000\n"
     ]
    },
    {
     "name": "stdout",
     "output_type": "stream",
     "text": [
      "[10]\ttrain-ndcg:0.99204\tval-ndcg:0.96000\n",
      "[15]\ttrain-ndcg:0.99204\tval-ndcg:0.96000\n",
      "[20]\ttrain-ndcg:0.99204\tval-ndcg:0.96000\n",
      "[25]\ttrain-ndcg:0.99204\tval-ndcg:0.96000\n",
      "[30]\ttrain-ndcg:0.99204\tval-ndcg:0.96000\n",
      "[35]\ttrain-ndcg:0.99204\tval-ndcg:0.96000\n",
      "[40]\ttrain-ndcg:0.99204\tval-ndcg:0.96000\n",
      "[45]\ttrain-ndcg:0.99204\tval-ndcg:0.96000\n",
      "[50]\ttrain-ndcg:0.99204\tval-ndcg:0.96000\n",
      "[55]\ttrain-ndcg:0.99204\tval-ndcg:0.96000\n",
      "[60]\ttrain-ndcg:0.99204\tval-ndcg:0.96000\n",
      "[65]\ttrain-ndcg:0.99204\tval-ndcg:0.96000\n",
      "[70]\ttrain-ndcg:0.99204\tval-ndcg:0.96000\n",
      "[75]\ttrain-ndcg:0.99204\tval-ndcg:0.96000\n",
      "[80]\ttrain-ndcg:0.99204\tval-ndcg:0.96000\n",
      "[85]\ttrain-ndcg:0.99204\tval-ndcg:0.96000\n",
      "[90]\ttrain-ndcg:0.99204\tval-ndcg:0.96000\n",
      "[95]\ttrain-ndcg:0.99204\tval-ndcg:0.96000\n",
      "[100]\ttrain-ndcg:0.99204\tval-ndcg:0.96000\n",
      "[105]\ttrain-ndcg:0.99204\tval-ndcg:0.96000\n",
      "[110]\ttrain-ndcg:0.99204\tval-ndcg:0.96000\n",
      "[115]\ttrain-ndcg:0.99204\tval-ndcg:0.96000\n",
      "[120]\ttrain-ndcg:0.99204\tval-ndcg:0.96000\n",
      "[125]\ttrain-ndcg:0.99204\tval-ndcg:0.96000\n",
      "[130]\ttrain-ndcg:0.99204\tval-ndcg:0.96000\n",
      "[135]\ttrain-ndcg:0.99204\tval-ndcg:0.96000\n",
      "[140]\ttrain-ndcg:0.99204\tval-ndcg:0.96000\n",
      "[145]\ttrain-ndcg:0.99204\tval-ndcg:0.96000\n",
      "[150]\ttrain-ndcg:0.99204\tval-ndcg:0.96000\n",
      "[155]\ttrain-ndcg:0.99204\tval-ndcg:0.96000\n",
      "[160]\ttrain-ndcg:0.99204\tval-ndcg:0.96000\n",
      "[165]\ttrain-ndcg:0.99204\tval-ndcg:0.96000\n",
      "[170]\ttrain-ndcg:0.99204\tval-ndcg:0.96000\n",
      "[175]\ttrain-ndcg:0.99204\tval-ndcg:0.96000\n",
      "[180]\ttrain-ndcg:0.99204\tval-ndcg:0.96000\n",
      "[185]\ttrain-ndcg:0.99204\tval-ndcg:0.96000\n",
      "[190]\ttrain-ndcg:0.99204\tval-ndcg:0.96000\n",
      "[195]\ttrain-ndcg:0.99204\tval-ndcg:0.96000\n",
      "[199]\ttrain-ndcg:0.99204\tval-ndcg:0.96000\n"
     ]
    }
   ],
   "source": [
    "model = xgb.train(\n",
    "    xgb_params,\n",
    "    dtrain,\n",
    "    num_boost_round=200,\n",
    "    # group=query_list_train,\n",
    "    verbose_eval=5,\n",
    "    # eval_group=[list(query_list_test)],\n",
    "    evals=watchlist,\n",
    ")"
   ]
  },
  {
   "cell_type": "code",
   "execution_count": 135,
   "metadata": {},
   "outputs": [
    {
     "name": "stdout",
     "output_type": "stream",
     "text": [
      "[12:34:24] WARNING: C:/buildkite-agent/builds/buildkite-windows-cpu-autoscaling-group-i-0fc7796c793e6356f-1/xgboost/xgboost-ci-windows/src/learner.cc:767: \n",
      "Parameters: { \"lambdarank_num_pair_per_sample\", \"lambdarank_pair_method\" } are not used.\n",
      "\n",
      "[0]\tvalidation_0-ndcg:0.95386\n"
     ]
    },
    {
     "name": "stderr",
     "output_type": "stream",
     "text": [
      "c:\\Users\\ologa\\anaconda3\\lib\\site-packages\\xgboost\\sklearn.py:835: UserWarning: `eval_metric` in `fit` method is deprecated for better compatibility with scikit-learn, use `eval_metric` in constructor or`set_params` instead.\n",
      "  warnings.warn(\n"
     ]
    },
    {
     "name": "stdout",
     "output_type": "stream",
     "text": [
      "[10]\tvalidation_0-ndcg:0.95386\n",
      "[20]\tvalidation_0-ndcg:0.95386\n",
      "[30]\tvalidation_0-ndcg:0.95386\n",
      "[40]\tvalidation_0-ndcg:0.95386\n",
      "[50]\tvalidation_0-ndcg:0.95386\n",
      "[60]\tvalidation_0-ndcg:0.95386\n",
      "[70]\tvalidation_0-ndcg:0.95386\n",
      "[80]\tvalidation_0-ndcg:0.95386\n",
      "[90]\tvalidation_0-ndcg:0.95386\n",
      "[99]\tvalidation_0-ndcg:0.95386\n"
     ]
    },
    {
     "data": {
      "text/html": [
       "<style>#sk-container-id-9 {color: black;background-color: white;}#sk-container-id-9 pre{padding: 0;}#sk-container-id-9 div.sk-toggleable {background-color: white;}#sk-container-id-9 label.sk-toggleable__label {cursor: pointer;display: block;width: 100%;margin-bottom: 0;padding: 0.3em;box-sizing: border-box;text-align: center;}#sk-container-id-9 label.sk-toggleable__label-arrow:before {content: \"▸\";float: left;margin-right: 0.25em;color: #696969;}#sk-container-id-9 label.sk-toggleable__label-arrow:hover:before {color: black;}#sk-container-id-9 div.sk-estimator:hover label.sk-toggleable__label-arrow:before {color: black;}#sk-container-id-9 div.sk-toggleable__content {max-height: 0;max-width: 0;overflow: hidden;text-align: left;background-color: #f0f8ff;}#sk-container-id-9 div.sk-toggleable__content pre {margin: 0.2em;color: black;border-radius: 0.25em;background-color: #f0f8ff;}#sk-container-id-9 input.sk-toggleable__control:checked~div.sk-toggleable__content {max-height: 200px;max-width: 100%;overflow: auto;}#sk-container-id-9 input.sk-toggleable__control:checked~label.sk-toggleable__label-arrow:before {content: \"▾\";}#sk-container-id-9 div.sk-estimator input.sk-toggleable__control:checked~label.sk-toggleable__label {background-color: #d4ebff;}#sk-container-id-9 div.sk-label input.sk-toggleable__control:checked~label.sk-toggleable__label {background-color: #d4ebff;}#sk-container-id-9 input.sk-hidden--visually {border: 0;clip: rect(1px 1px 1px 1px);clip: rect(1px, 1px, 1px, 1px);height: 1px;margin: -1px;overflow: hidden;padding: 0;position: absolute;width: 1px;}#sk-container-id-9 div.sk-estimator {font-family: monospace;background-color: #f0f8ff;border: 1px dotted black;border-radius: 0.25em;box-sizing: border-box;margin-bottom: 0.5em;}#sk-container-id-9 div.sk-estimator:hover {background-color: #d4ebff;}#sk-container-id-9 div.sk-parallel-item::after {content: \"\";width: 100%;border-bottom: 1px solid gray;flex-grow: 1;}#sk-container-id-9 div.sk-label:hover label.sk-toggleable__label {background-color: #d4ebff;}#sk-container-id-9 div.sk-serial::before {content: \"\";position: absolute;border-left: 1px solid gray;box-sizing: border-box;top: 0;bottom: 0;left: 50%;z-index: 0;}#sk-container-id-9 div.sk-serial {display: flex;flex-direction: column;align-items: center;background-color: white;padding-right: 0.2em;padding-left: 0.2em;position: relative;}#sk-container-id-9 div.sk-item {position: relative;z-index: 1;}#sk-container-id-9 div.sk-parallel {display: flex;align-items: stretch;justify-content: center;background-color: white;position: relative;}#sk-container-id-9 div.sk-item::before, #sk-container-id-9 div.sk-parallel-item::before {content: \"\";position: absolute;border-left: 1px solid gray;box-sizing: border-box;top: 0;bottom: 0;left: 50%;z-index: -1;}#sk-container-id-9 div.sk-parallel-item {display: flex;flex-direction: column;z-index: 1;position: relative;background-color: white;}#sk-container-id-9 div.sk-parallel-item:first-child::after {align-self: flex-end;width: 50%;}#sk-container-id-9 div.sk-parallel-item:last-child::after {align-self: flex-start;width: 50%;}#sk-container-id-9 div.sk-parallel-item:only-child::after {width: 0;}#sk-container-id-9 div.sk-dashed-wrapped {border: 1px dashed gray;margin: 0 0.4em 0.5em 0.4em;box-sizing: border-box;padding-bottom: 0.4em;background-color: white;}#sk-container-id-9 div.sk-label label {font-family: monospace;font-weight: bold;display: inline-block;line-height: 1.2em;}#sk-container-id-9 div.sk-label-container {text-align: center;}#sk-container-id-9 div.sk-container {/* jupyter's `normalize.less` sets `[hidden] { display: none; }` but bootstrap.min.css set `[hidden] { display: none !important; }` so we also need the `!important` here to be able to override the default hidden behavior on the sphinx rendered scikit-learn.org. See: https://github.com/scikit-learn/scikit-learn/issues/21755 */display: inline-block !important;position: relative;}#sk-container-id-9 div.sk-text-repr-fallback {display: none;}</style><div id=\"sk-container-id-9\" class=\"sk-top-container\"><div class=\"sk-text-repr-fallback\"><pre>XGBRanker(base_score=None, booster=None, callbacks=None, colsample_bylevel=None,\n",
       "          colsample_bynode=None, colsample_bytree=None,\n",
       "          early_stopping_rounds=None, enable_categorical=True, eval_metric=None,\n",
       "          feature_types=None, gamma=None, gpu_id=None, grow_policy=None,\n",
       "          importance_type=None, interaction_constraints=None,\n",
       "          lambdarank_num_pair_per_sample=8, lambdarank_pair_method=&#x27;topk&#x27;,\n",
       "          learning_rate=None, max_bin=None, max_cat_threshold=None,\n",
       "          max_cat_to_onehot=None, max_delta_step=None, max_depth=None,\n",
       "          max_leaves=None, min_child_weight=None, missing=nan,\n",
       "          monotone_constraints=None, n_estimators=100, n_jobs=None,\n",
       "          num_parallel_tree=None, ...)</pre><b>In a Jupyter environment, please rerun this cell to show the HTML representation or trust the notebook. <br />On GitHub, the HTML representation is unable to render, please try loading this page with nbviewer.org.</b></div><div class=\"sk-container\" hidden><div class=\"sk-item\"><div class=\"sk-estimator sk-toggleable\"><input class=\"sk-toggleable__control sk-hidden--visually\" id=\"sk-estimator-id-9\" type=\"checkbox\" checked><label for=\"sk-estimator-id-9\" class=\"sk-toggleable__label sk-toggleable__label-arrow\">XGBRanker</label><div class=\"sk-toggleable__content\"><pre>XGBRanker(base_score=None, booster=None, callbacks=None, colsample_bylevel=None,\n",
       "          colsample_bynode=None, colsample_bytree=None,\n",
       "          early_stopping_rounds=None, enable_categorical=True, eval_metric=None,\n",
       "          feature_types=None, gamma=None, gpu_id=None, grow_policy=None,\n",
       "          importance_type=None, interaction_constraints=None,\n",
       "          lambdarank_num_pair_per_sample=8, lambdarank_pair_method=&#x27;topk&#x27;,\n",
       "          learning_rate=None, max_bin=None, max_cat_threshold=None,\n",
       "          max_cat_to_onehot=None, max_delta_step=None, max_depth=None,\n",
       "          max_leaves=None, min_child_weight=None, missing=nan,\n",
       "          monotone_constraints=None, n_estimators=100, n_jobs=None,\n",
       "          num_parallel_tree=None, ...)</pre></div></div></div></div></div>"
      ],
      "text/plain": [
       "XGBRanker(base_score=None, booster=None, callbacks=None, colsample_bylevel=None,\n",
       "          colsample_bynode=None, colsample_bytree=None,\n",
       "          early_stopping_rounds=None, enable_categorical=True, eval_metric=None,\n",
       "          feature_types=None, gamma=None, gpu_id=None, grow_policy=None,\n",
       "          importance_type=None, interaction_constraints=None,\n",
       "          lambdarank_num_pair_per_sample=8, lambdarank_pair_method='topk',\n",
       "          learning_rate=None, max_bin=None, max_cat_threshold=None,\n",
       "          max_cat_to_onehot=None, max_delta_step=None, max_depth=None,\n",
       "          max_leaves=None, min_child_weight=None, missing=nan,\n",
       "          monotone_constraints=None, n_estimators=100, n_jobs=None,\n",
       "          num_parallel_tree=None, ...)"
      ]
     },
     "execution_count": 135,
     "metadata": {},
     "output_type": "execute_result"
    }
   ],
   "source": [
    "ranker = xgb.XGBRanker(\n",
    "    tree_method=\"hist\",\n",
    "    lambdarank_num_pair_per_sample=8,\n",
    "    objective=\"rank:ndcg\",\n",
    "    lambdarank_pair_method=\"topk\",\n",
    "    enable_categorical=True,\n",
    ")\n",
    "ranker.fit(\n",
    "    X_train[num_cols],\n",
    "    y_train,\n",
    "    group=query_list_train,\n",
    "    eval_metric=\"ndcg\",\n",
    "    eval_set=[(X_test[num_cols], y_test)],\n",
    "    eval_group=[list(query_list_test)],\n",
    "    verbose=10,\n",
    ")"
   ]
  },
  {
   "cell_type": "code",
   "execution_count": 105,
   "metadata": {
    "colab": {
     "base_uri": "https://localhost:8080/"
    },
    "id": "o4Jz3-kmiY4R",
    "outputId": "c8c10651-6efe-4796-f90e-cd7520218e2b"
   },
   "outputs": [
    {
     "data": {
      "text/plain": [
       "(16,)"
      ]
     },
     "execution_count": 105,
     "metadata": {},
     "output_type": "execute_result"
    }
   ],
   "source": [
    "query_list_train.shape"
   ]
  },
  {
   "cell_type": "code",
   "execution_count": 106,
   "metadata": {
    "colab": {
     "base_uri": "https://localhost:8080/"
    },
    "id": "TtE4q8b6qPE1",
    "outputId": "8f09a6be-1bae-46e9-cebe-81c6282bcc49"
   },
   "outputs": [
    {
     "data": {
      "text/plain": [
       "16"
      ]
     },
     "execution_count": 106,
     "metadata": {},
     "output_type": "execute_result"
    }
   ],
   "source": [
    "len(np.unique(X_train.index.get_level_values(0).values))"
   ]
  },
  {
   "cell_type": "code",
   "execution_count": 137,
   "metadata": {
    "colab": {
     "base_uri": "https://localhost:8080/",
     "height": 405
    },
    "id": "Cp6lIW-VRIVi",
    "outputId": "24fa79b2-3a01-4cd1-eb9b-5e0a03b50c25"
   },
   "outputs": [
    {
     "data": {
      "image/png": "[encoded data removed]",
      "text/plain": [
       "<Figure size 1200x600 with 1 Axes>"
      ]
     },
     "metadata": {},
     "output_type": "display_data"
    }
   ],
   "source": [
    "plt.figure(figsize=(12, 6))\n",
    "df_plt = pd.DataFrame(\n",
    "    {\n",
    "        \"feature_name\": X_train[num_cols].columns,\n",
    "        \"feature_importance\": ranker.feature_importances_,\n",
    "    }\n",
    ")\n",
    "df_plt.sort_values(\"feature_importance\", ascending=False, inplace=True)\n",
    "sns.barplot(x=\"feature_importance\", y=\"feature_name\", data=df_plt, color=\"#FF6631\")\n",
    "plt.title(\"feature importance\")\n",
    "plt.show()"
   ]
  },
  {
   "cell_type": "code",
   "execution_count": 147,
   "metadata": {},
   "outputs": [
    {
     "data": {
      "text/plain": [
       "{}"
      ]
     },
     "execution_count": 147,
     "metadata": {},
     "output_type": "execute_result"
    }
   ],
   "source": [
    "ranker.get_booster().get_score(importance_type=\"cover\")"
   ]
  },
  {
   "cell_type": "code",
   "execution_count": 173,
   "metadata": {
    "id": "UrTccZmIDuER"
   },
   "outputs": [],
   "source": [
    "def predict_at_k(data, model, k):\n",
    "    user_ids = list()\n",
    "    product_ids = list()\n",
    "    ranks = list()\n",
    "\n",
    "    for userId, df in data.groupby(\"UserId\"):\n",
    "        # if userId == \"A1004703RC79J9\":\n",
    "        pred = ranker.predict(df.loc[userId])\n",
    "        prodId = np.array(df.reset_index()[\"ProductId\"])\n",
    "        topK_index = np.argsort(pred)[::-1][:k]\n",
    "        product_ids.extend(list(prodId[topK_index]))\n",
    "        user_ids.extend([userId] * len(topK_index))\n",
    "        ranks.extend(list(range(1, len(topK_index) + 1)))\n",
    "\n",
    "    results = pd.DataFrame(\n",
    "        {\"userId\": user_ids, \"productId\": product_ids, \"rank\": ranks}\n",
    "    )\n",
    "\n",
    "    return results\n",
    "\n",
    "\n",
    "predicted = predict_at_k(X_test[num_cols], model, 5)"
   ]
  },
  {
   "cell_type": "code",
   "execution_count": 191,
   "metadata": {},
   "outputs": [
    {
     "data": {
      "text/html": [
       "<div>\n",
       "<style scoped>\n",
       "    .dataframe tbody tr th:only-of-type {\n",
       "        vertical-align: middle;\n",
       "    }\n",
       "\n",
       "    .dataframe tbody tr th {\n",
       "        vertical-align: top;\n",
       "    }\n",
       "\n",
       "    .dataframe thead th {\n",
       "        text-align: right;\n",
       "    }\n",
       "</style>\n",
       "<table border=\"1\" class=\"dataframe\">\n",
       "  <thead>\n",
       "    <tr style=\"text-align: right;\">\n",
       "      <th></th>\n",
       "      <th>user_count</th>\n",
       "      <th>1_star_ratings_recieved</th>\n",
       "      <th>2_star_ratings_recieved</th>\n",
       "      <th>3_star_ratings_recieved</th>\n",
       "      <th>4_star_ratings_recieved</th>\n",
       "      <th>5_star_ratings_recieved</th>\n",
       "      <th>monday_review_count_item</th>\n",
       "      <th>tuesday_review_count_item</th>\n",
       "      <th>wednesday_review_count_item</th>\n",
       "      <th>thursday_review_count_item</th>\n",
       "      <th>...</th>\n",
       "      <th>2_star_ratings_gave</th>\n",
       "      <th>1_star_ratings_gave</th>\n",
       "      <th>monday_review_count_user</th>\n",
       "      <th>tuesday_review_count_user</th>\n",
       "      <th>wednesday_review_count_user</th>\n",
       "      <th>thursday_review_count_user</th>\n",
       "      <th>friday_review_count_user</th>\n",
       "      <th>saturday_review_count_user</th>\n",
       "      <th>sunday_review_count_user</th>\n",
       "      <th>evening_reviews_by_user</th>\n",
       "    </tr>\n",
       "    <tr>\n",
       "      <th>ProductId</th>\n",
       "      <th></th>\n",
       "      <th></th>\n",
       "      <th></th>\n",
       "      <th></th>\n",
       "      <th></th>\n",
       "      <th></th>\n",
       "      <th></th>\n",
       "      <th></th>\n",
       "      <th></th>\n",
       "      <th></th>\n",
       "      <th></th>\n",
       "      <th></th>\n",
       "      <th></th>\n",
       "      <th></th>\n",
       "      <th></th>\n",
       "      <th></th>\n",
       "      <th></th>\n",
       "      <th></th>\n",
       "      <th></th>\n",
       "      <th></th>\n",
       "      <th></th>\n",
       "    </tr>\n",
       "  </thead>\n",
       "  <tbody>\n",
       "    <tr>\n",
       "      <th>B001OCKIP0</th>\n",
       "      <td>0.0</td>\n",
       "      <td>0.0</td>\n",
       "      <td>0.0</td>\n",
       "      <td>0.0</td>\n",
       "      <td>0.0</td>\n",
       "      <td>0.0</td>\n",
       "      <td>0.0</td>\n",
       "      <td>0.0</td>\n",
       "      <td>0.0</td>\n",
       "      <td>0.0</td>\n",
       "      <td>...</td>\n",
       "      <td>0.0</td>\n",
       "      <td>0.0</td>\n",
       "      <td>0.0</td>\n",
       "      <td>0.0</td>\n",
       "      <td>0.0</td>\n",
       "      <td>0.0</td>\n",
       "      <td>0.0</td>\n",
       "      <td>0.0</td>\n",
       "      <td>1.0</td>\n",
       "      <td>0.0</td>\n",
       "    </tr>\n",
       "    <tr>\n",
       "      <th>B002TMV34E</th>\n",
       "      <td>0.0</td>\n",
       "      <td>0.0</td>\n",
       "      <td>0.0</td>\n",
       "      <td>0.0</td>\n",
       "      <td>0.0</td>\n",
       "      <td>0.0</td>\n",
       "      <td>0.0</td>\n",
       "      <td>0.0</td>\n",
       "      <td>0.0</td>\n",
       "      <td>0.0</td>\n",
       "      <td>...</td>\n",
       "      <td>0.0</td>\n",
       "      <td>0.0</td>\n",
       "      <td>0.0</td>\n",
       "      <td>0.0</td>\n",
       "      <td>0.0</td>\n",
       "      <td>0.0</td>\n",
       "      <td>0.0</td>\n",
       "      <td>0.0</td>\n",
       "      <td>1.0</td>\n",
       "      <td>0.0</td>\n",
       "    </tr>\n",
       "    <tr>\n",
       "      <th>B003GTR8IO</th>\n",
       "      <td>0.0</td>\n",
       "      <td>0.0</td>\n",
       "      <td>0.0</td>\n",
       "      <td>0.0</td>\n",
       "      <td>0.0</td>\n",
       "      <td>0.0</td>\n",
       "      <td>0.0</td>\n",
       "      <td>0.0</td>\n",
       "      <td>0.0</td>\n",
       "      <td>0.0</td>\n",
       "      <td>...</td>\n",
       "      <td>0.0</td>\n",
       "      <td>0.0</td>\n",
       "      <td>0.0</td>\n",
       "      <td>0.0</td>\n",
       "      <td>0.0</td>\n",
       "      <td>0.0</td>\n",
       "      <td>0.0</td>\n",
       "      <td>0.0</td>\n",
       "      <td>1.0</td>\n",
       "      <td>0.0</td>\n",
       "    </tr>\n",
       "    <tr>\n",
       "      <th>B003XDH6M6</th>\n",
       "      <td>0.0</td>\n",
       "      <td>0.0</td>\n",
       "      <td>0.0</td>\n",
       "      <td>0.0</td>\n",
       "      <td>0.0</td>\n",
       "      <td>0.0</td>\n",
       "      <td>0.0</td>\n",
       "      <td>0.0</td>\n",
       "      <td>0.0</td>\n",
       "      <td>0.0</td>\n",
       "      <td>...</td>\n",
       "      <td>0.0</td>\n",
       "      <td>0.0</td>\n",
       "      <td>0.0</td>\n",
       "      <td>0.0</td>\n",
       "      <td>0.0</td>\n",
       "      <td>0.0</td>\n",
       "      <td>0.0</td>\n",
       "      <td>0.0</td>\n",
       "      <td>1.0</td>\n",
       "      <td>0.0</td>\n",
       "    </tr>\n",
       "    <tr>\n",
       "      <th>B004OV6X6Q</th>\n",
       "      <td>0.0</td>\n",
       "      <td>0.0</td>\n",
       "      <td>0.0</td>\n",
       "      <td>0.0</td>\n",
       "      <td>0.0</td>\n",
       "      <td>0.0</td>\n",
       "      <td>0.0</td>\n",
       "      <td>0.0</td>\n",
       "      <td>0.0</td>\n",
       "      <td>0.0</td>\n",
       "      <td>...</td>\n",
       "      <td>0.0</td>\n",
       "      <td>0.0</td>\n",
       "      <td>0.0</td>\n",
       "      <td>0.0</td>\n",
       "      <td>0.0</td>\n",
       "      <td>0.0</td>\n",
       "      <td>0.0</td>\n",
       "      <td>0.0</td>\n",
       "      <td>1.0</td>\n",
       "      <td>0.0</td>\n",
       "    </tr>\n",
       "    <tr>\n",
       "      <th>B0090X8IPM</th>\n",
       "      <td>0.0</td>\n",
       "      <td>0.0</td>\n",
       "      <td>0.0</td>\n",
       "      <td>0.0</td>\n",
       "      <td>0.0</td>\n",
       "      <td>0.0</td>\n",
       "      <td>0.0</td>\n",
       "      <td>0.0</td>\n",
       "      <td>0.0</td>\n",
       "      <td>0.0</td>\n",
       "      <td>...</td>\n",
       "      <td>0.0</td>\n",
       "      <td>0.0</td>\n",
       "      <td>0.0</td>\n",
       "      <td>0.0</td>\n",
       "      <td>0.0</td>\n",
       "      <td>0.0</td>\n",
       "      <td>0.0</td>\n",
       "      <td>0.0</td>\n",
       "      <td>1.0</td>\n",
       "      <td>0.0</td>\n",
       "    </tr>\n",
       "  </tbody>\n",
       "</table>\n",
       "<p>6 rows × 28 columns</p>\n",
       "</div>"
      ],
      "text/plain": [
       "            user_count  1_star_ratings_recieved  2_star_ratings_recieved  \\\n",
       "ProductId                                                                  \n",
       "B001OCKIP0         0.0                      0.0                      0.0   \n",
       "B002TMV34E         0.0                      0.0                      0.0   \n",
       "B003GTR8IO         0.0                      0.0                      0.0   \n",
       "B003XDH6M6         0.0                      0.0                      0.0   \n",
       "B004OV6X6Q         0.0                      0.0                      0.0   \n",
       "B0090X8IPM         0.0                      0.0                      0.0   \n",
       "\n",
       "            3_star_ratings_recieved  4_star_ratings_recieved  \\\n",
       "ProductId                                                      \n",
       "B001OCKIP0                      0.0                      0.0   \n",
       "B002TMV34E                      0.0                      0.0   \n",
       "B003GTR8IO                      0.0                      0.0   \n",
       "B003XDH6M6                      0.0                      0.0   \n",
       "B004OV6X6Q                      0.0                      0.0   \n",
       "B0090X8IPM                      0.0                      0.0   \n",
       "\n",
       "            5_star_ratings_recieved  monday_review_count_item  \\\n",
       "ProductId                                                       \n",
       "B001OCKIP0                      0.0                       0.0   \n",
       "B002TMV34E                      0.0                       0.0   \n",
       "B003GTR8IO                      0.0                       0.0   \n",
       "B003XDH6M6                      0.0                       0.0   \n",
       "B004OV6X6Q                      0.0                       0.0   \n",
       "B0090X8IPM                      0.0                       0.0   \n",
       "\n",
       "            tuesday_review_count_item  wednesday_review_count_item  \\\n",
       "ProductId                                                            \n",
       "B001OCKIP0                        0.0                          0.0   \n",
       "B002TMV34E                        0.0                          0.0   \n",
       "B003GTR8IO                        0.0                          0.0   \n",
       "B003XDH6M6                        0.0                          0.0   \n",
       "B004OV6X6Q                        0.0                          0.0   \n",
       "B0090X8IPM                        0.0                          0.0   \n",
       "\n",
       "            thursday_review_count_item  ...  2_star_ratings_gave  \\\n",
       "ProductId                               ...                        \n",
       "B001OCKIP0                         0.0  ...                  0.0   \n",
       "B002TMV34E                         0.0  ...                  0.0   \n",
       "B003GTR8IO                         0.0  ...                  0.0   \n",
       "B003XDH6M6                         0.0  ...                  0.0   \n",
       "B004OV6X6Q                         0.0  ...                  0.0   \n",
       "B0090X8IPM                         0.0  ...                  0.0   \n",
       "\n",
       "            1_star_ratings_gave  monday_review_count_user  \\\n",
       "ProductId                                                   \n",
       "B001OCKIP0                  0.0                       0.0   \n",
       "B002TMV34E                  0.0                       0.0   \n",
       "B003GTR8IO                  0.0                       0.0   \n",
       "B003XDH6M6                  0.0                       0.0   \n",
       "B004OV6X6Q                  0.0                       0.0   \n",
       "B0090X8IPM                  0.0                       0.0   \n",
       "\n",
       "            tuesday_review_count_user  wednesday_review_count_user  \\\n",
       "ProductId                                                            \n",
       "B001OCKIP0                        0.0                          0.0   \n",
       "B002TMV34E                        0.0                          0.0   \n",
       "B003GTR8IO                        0.0                          0.0   \n",
       "B003XDH6M6                        0.0                          0.0   \n",
       "B004OV6X6Q                        0.0                          0.0   \n",
       "B0090X8IPM                        0.0                          0.0   \n",
       "\n",
       "            thursday_review_count_user  friday_review_count_user  \\\n",
       "ProductId                                                          \n",
       "B001OCKIP0                         0.0                       0.0   \n",
       "B002TMV34E                         0.0                       0.0   \n",
       "B003GTR8IO                         0.0                       0.0   \n",
       "B003XDH6M6                         0.0                       0.0   \n",
       "B004OV6X6Q                         0.0                       0.0   \n",
       "B0090X8IPM                         0.0                       0.0   \n",
       "\n",
       "            saturday_review_count_user  sunday_review_count_user  \\\n",
       "ProductId                                                          \n",
       "B001OCKIP0                         0.0                       1.0   \n",
       "B002TMV34E                         0.0                       1.0   \n",
       "B003GTR8IO                         0.0                       1.0   \n",
       "B003XDH6M6                         0.0                       1.0   \n",
       "B004OV6X6Q                         0.0                       1.0   \n",
       "B0090X8IPM                         0.0                       1.0   \n",
       "\n",
       "            evening_reviews_by_user  \n",
       "ProductId                            \n",
       "B001OCKIP0                      0.0  \n",
       "B002TMV34E                      0.0  \n",
       "B003GTR8IO                      0.0  \n",
       "B003XDH6M6                      0.0  \n",
       "B004OV6X6Q                      0.0  \n",
       "B0090X8IPM                      0.0  \n",
       "\n",
       "[6 rows x 28 columns]"
      ]
     },
     "execution_count": 191,
     "metadata": {},
     "output_type": "execute_result"
    }
   ],
   "source": [
    "X_test[num_cols].loc[\"A1004703RC79J9\"]"
   ]
  },
  {
   "cell_type": "code",
   "execution_count": 196,
   "metadata": {},
   "outputs": [
    {
     "data": {
      "text/plain": [
       "Index(['userId', 'productId', 'rank'], dtype='object')"
      ]
     },
     "execution_count": 196,
     "metadata": {},
     "output_type": "execute_result"
    }
   ],
   "source": [
    "predicted.columns"
   ]
  },
  {
   "cell_type": "code",
   "execution_count": 175,
   "metadata": {
    "colab": {
     "base_uri": "https://localhost:8080/",
     "height": 424
    },
    "id": "YROcj3VqFnYp",
    "outputId": "e0355c7f-c022-47b2-e9f0-dd50103039a5"
   },
   "outputs": [],
   "source": [
    "predicted.to_parquet(\"./recommendations.parquet\", index=True)"
   ]
  },
  {
   "cell_type": "code",
   "execution_count": 150,
   "metadata": {},
   "outputs": [
    {
     "data": {
      "text/html": [
       "<div>\n",
       "<style scoped>\n",
       "    .dataframe tbody tr th:only-of-type {\n",
       "        vertical-align: middle;\n",
       "    }\n",
       "\n",
       "    .dataframe tbody tr th {\n",
       "        vertical-align: top;\n",
       "    }\n",
       "\n",
       "    .dataframe thead th {\n",
       "        text-align: right;\n",
       "    }\n",
       "</style>\n",
       "<table border=\"1\" class=\"dataframe\">\n",
       "  <thead>\n",
       "    <tr style=\"text-align: right;\">\n",
       "      <th></th>\n",
       "      <th>userId</th>\n",
       "      <th>productId</th>\n",
       "      <th>rank</th>\n",
       "    </tr>\n",
       "  </thead>\n",
       "  <tbody>\n",
       "  </tbody>\n",
       "</table>\n",
       "</div>"
      ],
      "text/plain": [
       "Empty DataFrame\n",
       "Columns: [userId, productId, rank]\n",
       "Index: []"
      ]
     },
     "execution_count": 150,
     "metadata": {},
     "output_type": "execute_result"
    }
   ],
   "source": [
    "# predicted.query('userId == A1004703RC79J9')\n",
    "\n",
    "predicted[predicted.userId == \"A1004703RC79J9\"]\n",
    "\n",
    "predicted[predicted.userId == \"A1004703RC7\"]"
   ]
  },
  {
   "cell_type": "code",
   "execution_count": 203,
   "metadata": {
    "colab": {
     "base_uri": "https://localhost:8080/"
    },
    "id": "wlp1l2iJFo3H",
    "outputId": "70072cdc-59aa-4c5f-989c-9fa37af85bd3"
   },
   "outputs": [
    {
     "name": "stdout",
     "output_type": "stream",
     "text": [
      "A37I6B2ZCDFIQX\n",
      "[predicted]\n",
      "       productId  rank\n",
      "8496  B001IZM8WY     1\n",
      "++++++++++++++++++++\n",
      "[actual]\n",
      "ProductId\n",
      "B001IZM8WY    5.0\n",
      "Name: Score, dtype: float64\n"
     ]
    }
   ],
   "source": [
    "import random\n",
    "\n",
    "sample = random.choice(predicted.userId)\n",
    "print(sample)\n",
    "print(\"[predicted]\")\n",
    "# print(predicted.query(f'userId == {sample}')[['productId', 'rank']])\n",
    "print(predicted[predicted.userId == sample][[\"productId\", \"rank\"]])\n",
    "print(\"+\" * 20)\n",
    "print(\"[actual]\")\n",
    "print(y_test[sample].sort_values(ascending=False))"
   ]
  },
  {
   "cell_type": "code",
   "execution_count": 142,
   "metadata": {
    "id": "oqhQ2c7yFvH0"
   },
   "outputs": [],
   "source": [
    "def coverage(preds, train_X_p):\n",
    "    test_recs = preds[\"productId\"].nunique()\n",
    "    train_movies = train_X_p[\"ProductId\"].nunique()\n",
    "\n",
    "    return test_recs / train_movies"
   ]
  },
  {
   "cell_type": "code",
   "execution_count": 143,
   "metadata": {
    "colab": {
     "base_uri": "https://localhost:8080/"
    },
    "id": "CUFnG4r1KwnD",
    "outputId": "214785cc-bc6b-4922-81e8-d87f1f622982"
   },
   "outputs": [
    {
     "data": {
      "text/plain": [
       "57.6"
      ]
     },
     "execution_count": 143,
     "metadata": {},
     "output_type": "execute_result"
    }
   ],
   "source": [
    "coverage(predicted, train_X_p)"
   ]
  },
  {
   "cell_type": "code",
   "execution_count": 171,
   "metadata": {},
   "outputs": [],
   "source": [
    "ranker.save_model(\"./ranker.bin\")"
   ]
  },
  {
   "cell_type": "code",
   "execution_count": 180,
   "metadata": {},
   "outputs": [],
   "source": [
    "# calculate file size in KB, MB, GB\n",
    "def convert_bytes(size):\n",
    "    \"\"\"Convert bytes to KB, or MB or GB\"\"\"\n",
    "    for x in [\"bytes\", \"KB\", \"MB\", \"GB\", \"TB\"]:\n",
    "        if size < 1024.0:\n",
    "            return \"%3.1f %s\" % (size, x)\n",
    "        size /= 1024.0"
   ]
  },
  {
   "cell_type": "code",
   "execution_count": 183,
   "metadata": {},
   "outputs": [
    {
     "name": "stdout",
     "output_type": "stream",
     "text": [
      "The ./ranker.bin size is 21.9 KB\n"
     ]
    }
   ],
   "source": [
    "import os.path\n",
    "\n",
    "# file to check\n",
    "file_path = r\"./ranker.bin\"\n",
    "\n",
    "sz = os.path.getsize(file_path)\n",
    "x = convert_bytes(sz)\n",
    "print(f\"The {file_path} size is\", x)"
   ]
  },
  {
   "cell_type": "code",
   "execution_count": 194,
   "metadata": {},
   "outputs": [
    {
     "name": "stdout",
     "output_type": "stream",
     "text": [
      "The ./amazonproducts.parquet size is 172.8 MB\n"
     ]
    }
   ],
   "source": [
    "import os.path\n",
    "\n",
    "# file to check\n",
    "file_path = r\"./amazonproducts.parquet\"\n",
    "\n",
    "sz = os.path.getsize(file_path)\n",
    "x = convert_bytes(sz)\n",
    "print(f\"The {file_path} size is\", x)"
   ]
  },
  {
   "cell_type": "code",
   "execution_count": 195,
   "metadata": {},
   "outputs": [
    {
     "name": "stdout",
     "output_type": "stream",
     "text": [
      "The ./reviews.csv size is 287.0 MB\n"
     ]
    }
   ],
   "source": [
    "import os.path\n",
    "\n",
    "# file to check\n",
    "file_path = r\"./reviews.csv\"\n",
    "\n",
    "sz = os.path.getsize(file_path)\n",
    "x = convert_bytes(sz)\n",
    "print(f\"The {file_path} size is\", x)"
   ]
  }
 ],
 "metadata": {
  "colab": {
   "provenance": []
  },
  "kernelspec": {
   "display_name": "Python 3",
   "name": "python3"
  },
  "language_info": {
   "codemirror_mode": {
    "name": "ipython",
    "version": 3
   },
   "file_extension": ".py",
   "mimetype": "text/x-python",
   "name": "python",
   "nbconvert_exporter": "python",
   "pygments_lexer": "ipython3",
   "version": "3.9.16"
  }
 },
 "nbformat": 4,
 "nbformat_minor": 0
}
